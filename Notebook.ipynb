{
 "cells": [
  {
   "cell_type": "markdown",
   "id": "88efab74",
   "metadata": {},
   "source": [
    "# DASH - Top 100 Spotify songs"
   ]
  },
  {
   "cell_type": "code",
   "execution_count": 2,
   "id": "23a57aee",
   "metadata": {},
   "outputs": [],
   "source": [
    "import pandas as pd\n",
    "import plotly.express as px"
   ]
  },
  {
   "cell_type": "code",
   "execution_count": 3,
   "id": "9e6186b6",
   "metadata": {},
   "outputs": [],
   "source": [
    "songs = pd.read_csv(\"./data/List of most-streamed songs on Spotify.csv\")"
   ]
  },
  {
   "cell_type": "code",
   "execution_count": 14,
   "id": "80e3fe89",
   "metadata": {},
   "outputs": [
    {
     "data": {
      "text/plain": [
       "Ed Sheeran                               4\n",
       "Imagine Dragons                          3\n",
       "XXXTentacion                             3\n",
       "Shawn Mendes                             3\n",
       "Maroon 5                                 2\n",
       "                                        ..\n",
       "Camila Cabello featuring Young Thug      1\n",
       "Travis Scott featuring Kendrick Lamar    1\n",
       "The Neighbourhood                        1\n",
       "John Legend                              1\n",
       "DaBaby featuring Roddy Ricch             1\n",
       "Name: Artist, Length: 82, dtype: int64"
      ]
     },
     "execution_count": 14,
     "metadata": {},
     "output_type": "execute_result"
    }
   ],
   "source": [
    "songs['Artist'].value_counts()"
   ]
  }
 ],
 "metadata": {
  "kernelspec": {
   "display_name": "Python 3 (ipykernel)",
   "language": "python",
   "name": "python3"
  },
  "language_info": {
   "codemirror_mode": {
    "name": "ipython",
    "version": 3
   },
   "file_extension": ".py",
   "mimetype": "text/x-python",
   "name": "python",
   "nbconvert_exporter": "python",
   "pygments_lexer": "ipython3",
   "version": "3.8.12"
  },
  "toc": {
   "base_numbering": 1,
   "nav_menu": {},
   "number_sections": true,
   "sideBar": true,
   "skip_h1_title": false,
   "title_cell": "Table of Contents",
   "title_sidebar": "Contents",
   "toc_cell": false,
   "toc_position": {},
   "toc_section_display": true,
   "toc_window_display": false
  }
 },
 "nbformat": 4,
 "nbformat_minor": 5
}
